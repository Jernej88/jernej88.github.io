{
 "cells": [
  {
   "cell_type": "markdown",
   "metadata": {},
   "source": [
    "Python allowed me to write several pieces of useful software using drastically smaller number of lines required at some other languages. My first programming steps were in Java, during the *Introduction to programming* course at the Faculty of Mathematics and Physics, Ljubljana. Java and I didn't get along well. I enjoyed the course but writing Java code didn't really inspire me. The second year, however, our tutors upgraded to Python. Now that felt pretty good. I felt much more comfortable writing small scripts in Python than Java and used Python and it's ecosystem in other courses as well.\n",
    "Python code, however, sometimes behaves in a way that seems buggy at first, unless you know what is happening.\n",
    "\n",
    "<!-- TEASER_END -->\n",
    "\n",
    "# A \"*bug*\"\n",
    "Just yesterday, two colegues looked into a strange behaviour of a piece of code, that was written by our best programmer at the time, although in a hurry. It went something like this:"
   ]
  },
  {
   "cell_type": "code",
   "execution_count": 1,
   "metadata": {},
   "outputs": [],
   "source": [
    "class Pipeline(object):\n",
    "    def __init__(self, callable_list):\n",
    "        self.callable_list = callable_list\n",
    "        \n",
    "    def __call__(self, text, metadata={}):\n",
    "        for func in self.callable_list:\n",
    "            text, metadata = func(text, metadata)\n",
    "        \n",
    "        return text, metadata"
   ]
  },
  {
   "cell_type": "markdown",
   "metadata": {},
   "source": [
    "It is a callable class that we can instantiate by providing a list of callables, which can be applied to some text and metadata that will carry aditional info about the text. \n",
    "\n",
    "Now we need a function we can put into the `Pipeline`. One such function could be:"
   ]
  },
  {
   "cell_type": "code",
   "execution_count": 2,
   "metadata": {},
   "outputs": [],
   "source": [
    "from collections import defaultdict\n",
    "def character_counter(text, metadata):\n",
    "    \"\"\"\n",
    "    Counts the characters in the text and \n",
    "    stores them into metadata\n",
    "    \"\"\"\n",
    "    characters = defaultdict(int)\n",
    "    for char in text:\n",
    "        characters[char] += 1\n",
    "    for key, value in characters.items():\n",
    "        metadata[key] = value\n",
    "    return text, metadata"
   ]
  },
  {
   "cell_type": "markdown",
   "metadata": {},
   "source": [
    "Great, we are all set now to use our pipeline."
   ]
  },
  {
   "cell_type": "code",
   "execution_count": 3,
   "metadata": {},
   "outputs": [],
   "source": [
    "pipeline = Pipeline([\n",
    "    character_counter\n",
    "])"
   ]
  },
  {
   "cell_type": "code",
   "execution_count": 4,
   "metadata": {},
   "outputs": [
    {
     "data": {
      "text/plain": [
       "('aaa', {'a': 3})"
      ]
     },
     "execution_count": 4,
     "metadata": {},
     "output_type": "execute_result"
    }
   ],
   "source": [
    "pipeline('aaa')"
   ]
  },
  {
   "cell_type": "markdown",
   "metadata": {},
   "source": [
    "Great, this seems OK. What about another example:"
   ]
  },
  {
   "cell_type": "code",
   "execution_count": 5,
   "metadata": {},
   "outputs": [
    {
     "data": {
      "text/plain": [
       "('bbb', {'a': 3, 'b': 3})"
      ]
     },
     "execution_count": 5,
     "metadata": {},
     "output_type": "execute_result"
    }
   ],
   "source": [
    "pipeline('bbb')"
   ]
  },
  {
   "cell_type": "markdown",
   "metadata": {},
   "source": [
    "This seem strange, where have the three 'a's come from?\n",
    "\n",
    "A new empty dictionary is created once when the `Pipeline` is defined, and the same list is used in each successive call.\n",
    "\n",
    "Python’s default arguments are evaluated once when the function/method is defined and not each time the function/method is called. This means that if you use a mutable default argument and mutate it, you end up with the mutated object for all future function/method calls as well.\n",
    "\n",
    "## Mutable vs. immutable objects in Python\n",
    "\n",
    "The value of a mutable can change, while the value of immutable object cannot. "
   ]
  },
  {
   "cell_type": "code",
   "execution_count": 6,
   "metadata": {},
   "outputs": [],
   "source": [
    "mutable_dict = {\"a\": 1}"
   ]
  },
  {
   "cell_type": "code",
   "execution_count": 7,
   "metadata": {},
   "outputs": [
    {
     "data": {
      "text/plain": [
       "139653346954880"
      ]
     },
     "execution_count": 7,
     "metadata": {},
     "output_type": "execute_result"
    }
   ],
   "source": [
    "id(mutable_dict)"
   ]
  },
  {
   "cell_type": "code",
   "execution_count": 8,
   "metadata": {},
   "outputs": [],
   "source": [
    "mutable_dict['b'] = 2"
   ]
  },
  {
   "cell_type": "code",
   "execution_count": 9,
   "metadata": {},
   "outputs": [
    {
     "data": {
      "text/plain": [
       "139653346954880"
      ]
     },
     "execution_count": 9,
     "metadata": {},
     "output_type": "execute_result"
    }
   ],
   "source": [
    "id(mutable_dict)"
   ]
  },
  {
   "cell_type": "markdown",
   "metadata": {},
   "source": [
    "So the object stayed the same but it's value has changed. Now for the immutable:"
   ]
  },
  {
   "cell_type": "code",
   "execution_count": 10,
   "metadata": {},
   "outputs": [
    {
     "data": {
      "text/plain": [
       "139653347182224"
      ]
     },
     "execution_count": 10,
     "metadata": {},
     "output_type": "execute_result"
    }
   ],
   "source": [
    "immutable_number = 3.14\n",
    "id(immutable_number)"
   ]
  },
  {
   "cell_type": "code",
   "execution_count": 11,
   "metadata": {},
   "outputs": [
    {
     "data": {
      "text/plain": [
       "139653347183472"
      ]
     },
     "execution_count": 11,
     "metadata": {},
     "output_type": "execute_result"
    }
   ],
   "source": [
    "immutable_number = 2.7\n",
    "id(immutable_number)"
   ]
  },
  {
   "cell_type": "markdown",
   "metadata": {},
   "source": [
    "The value is assigned to the object with the same name, but it is a different object. An example of common mutable datatype includes dictionary, list and set, while floats, integers, tuples, `None` belong to immutable objects camp. \n",
    "\n",
    "\n",
    "# Solution\n",
    "\n",
    "Now back to our `bug`. \n",
    "\n",
    "Lesson is to always use immutable objects for function/method arguments and set an immutable object later. To signal an empty default value `None` is used often. We should therefore rewrite our `Pipeline` class in the following way:"
   ]
  },
  {
   "cell_type": "code",
   "execution_count": 12,
   "metadata": {},
   "outputs": [],
   "source": [
    "class Pipeline(object):\n",
    "    def __init__(self, callable_list):\n",
    "        self.callable_list = callable_list\n",
    "        \n",
    "    def __call__(self, text, metadata=None):\n",
    "        # - metadata={}\n",
    "        # + metadata=None\n",
    "        if metadata is None:   # new line\n",
    "            metadata = {}      # new line\n",
    "        for func in self.callable_list:\n",
    "            text, metadata = func(text, metadata)\n",
    "        \n",
    "        return text, metadata"
   ]
  },
  {
   "cell_type": "markdown",
   "metadata": {},
   "source": [
    "Does it work?"
   ]
  },
  {
   "cell_type": "code",
   "execution_count": 13,
   "metadata": {},
   "outputs": [],
   "source": [
    "pipeline = Pipeline([\n",
    "    character_counter\n",
    "])"
   ]
  },
  {
   "cell_type": "code",
   "execution_count": 14,
   "metadata": {},
   "outputs": [
    {
     "data": {
      "text/plain": [
       "('aaa', {'a': 3})"
      ]
     },
     "execution_count": 14,
     "metadata": {},
     "output_type": "execute_result"
    }
   ],
   "source": [
    "pipeline('aaa')"
   ]
  },
  {
   "cell_type": "code",
   "execution_count": 15,
   "metadata": {},
   "outputs": [
    {
     "data": {
      "text/plain": [
       "('bbb', {'b': 3})"
      ]
     },
     "execution_count": 15,
     "metadata": {},
     "output_type": "execute_result"
    }
   ],
   "source": [
    "pipeline('bbb')"
   ]
  },
  {
   "cell_type": "markdown",
   "metadata": {},
   "source": [
    "It does!\n",
    "\n",
    "\n",
    "# Exceptions\n",
    "\n",
    "While this is usually what you want, sometimes, you may want to keep the previous state, maybe when you want to utilize memoization - caching. This would be a story for some other time."
   ]
  }
 ],
 "metadata": {
  "kernelspec": {
   "display_name": "Python 3",
   "language": "python",
   "name": "python3"
  },
  "language_info": {
   "codemirror_mode": {
    "name": "ipython",
    "version": 3
   },
   "file_extension": ".py",
   "mimetype": "text/x-python",
   "name": "python",
   "nbconvert_exporter": "python",
   "pygments_lexer": "ipython3",
   "version": "3.8.1"
  },
  "nikola": {
   "category": "",
   "date": "2020-02-05 21:53:24 UTC+01:00",
   "description": "",
   "link": "",
   "slug": "python-and-tricky-function-arguments",
   "tags": [
    "notebook",
    "python",
    "gotcha"
   ],
   "title": "Python and tricky function arguments",
   "type": "text"
  }
 },
 "nbformat": 4,
 "nbformat_minor": 4
}
